{
 "cells": [
  {
   "cell_type": "code",
   "execution_count": 1,
   "metadata": {},
   "outputs": [],
   "source": [
    "import web3\n",
    "from web3 import Web3\n"
   ]
  },
  {
   "cell_type": "markdown",
   "metadata": {},
   "source": [
    "Go to https://infura.io/, sign up and create a new project.\n",
    "At this point, you will be able to retrieve the Url of this new project "
   ]
  },
  {
   "cell_type": "code",
   "execution_count": 2,
   "metadata": {},
   "outputs": [],
   "source": [
    "#sign up in Infura and create a new project.\n",
    "#you will be able to copy the URL of the project\n",
    "\n",
    "infura_url = 'https://mainnet.infura.io/v3/e6e03a251a7242e7a2f5f32dfc1be1af' #change with yours"
   ]
  },
  {
   "cell_type": "code",
   "execution_count": 3,
   "metadata": {},
   "outputs": [],
   "source": [
    "\n",
    "w3 = Web3(Web3.HTTPProvider(infura_url))"
   ]
  },
  {
   "cell_type": "code",
   "execution_count": 75,
   "metadata": {},
   "outputs": [],
   "source": [
    "#web3.isConnected()\n"
   ]
  },
  {
   "cell_type": "markdown",
   "metadata": {},
   "source": [
    "## Connecting to our smart contract"
   ]
  },
  {
   "cell_type": "markdown",
   "metadata": {},
   "source": [
    "Let create a py file where you have to paste the ABI of our contract (let copy the ABI from the Remix compile tab). \n",
    "\n",
    "Our ‘contract_abi.py’ file should look something like this:\n",
    "\n",
    "abi = \"\"\"[\n",
    " {\n",
    "   A BIG LIST OF ABI INFO SPREAD ACROSS MULTIPLE DICTS\n",
    " }\n",
    "]\"\"\""
   ]
  },
  {
   "cell_type": "code",
   "execution_count": 4,
   "metadata": {},
   "outputs": [],
   "source": [
    "import contract_abi"
   ]
  },
  {
   "cell_type": "code",
   "execution_count": 5,
   "metadata": {},
   "outputs": [],
   "source": [
    "# you can find the contract address in Remix \n",
    "contract = w3.eth.contract(address = '0xd9145CCE52D386f254917e481eB44e9943F39138', abi = contract_abi.abi)"
   ]
  },
  {
   "cell_type": "code",
   "execution_count": 6,
   "metadata": {},
   "outputs": [
    {
     "data": {
      "text/plain": [
       "['__annotations__',\n",
       " '__class__',\n",
       " '__delattr__',\n",
       " '__dict__',\n",
       " '__dir__',\n",
       " '__doc__',\n",
       " '__eq__',\n",
       " '__format__',\n",
       " '__ge__',\n",
       " '__getattribute__',\n",
       " '__gt__',\n",
       " '__hash__',\n",
       " '__init__',\n",
       " '__init_subclass__',\n",
       " '__le__',\n",
       " '__lt__',\n",
       " '__module__',\n",
       " '__ne__',\n",
       " '__new__',\n",
       " '__reduce__',\n",
       " '__reduce_ex__',\n",
       " '__repr__',\n",
       " '__setattr__',\n",
       " '__sizeof__',\n",
       " '__str__',\n",
       " '__subclasshook__',\n",
       " '__weakref__',\n",
       " '_encode_constructor_data',\n",
       " '_find_matching_event_abi',\n",
       " '_find_matching_fn_abi',\n",
       " '_prepare_transaction',\n",
       " '_return_data_normalizers',\n",
       " 'abi',\n",
       " 'address',\n",
       " 'all_functions',\n",
       " 'asm',\n",
       " 'ast',\n",
       " 'bytecode',\n",
       " 'bytecode_runtime',\n",
       " 'caller',\n",
       " 'clone_bin',\n",
       " 'constructor',\n",
       " 'decode_function_input',\n",
       " 'dev_doc',\n",
       " 'encodeABI',\n",
       " 'events',\n",
       " 'factory',\n",
       " 'fallback',\n",
       " 'find_functions_by_args',\n",
       " 'find_functions_by_name',\n",
       " 'functions',\n",
       " 'get_fallback_function',\n",
       " 'get_function_by_args',\n",
       " 'get_function_by_name',\n",
       " 'get_function_by_selector',\n",
       " 'get_function_by_signature',\n",
       " 'get_receive_function',\n",
       " 'interface',\n",
       " 'metadata',\n",
       " 'opcodes',\n",
       " 'receive',\n",
       " 'src_map',\n",
       " 'src_map_runtime',\n",
       " 'user_doc',\n",
       " 'web3']"
      ]
     },
     "execution_count": 6,
     "metadata": {},
     "output_type": "execute_result"
    }
   ],
   "source": [
    "dir(contract)"
   ]
  },
  {
   "cell_type": "code",
   "execution_count": 7,
   "metadata": {},
   "outputs": [
    {
     "data": {
      "text/plain": [
       "['assignWinningContractor',\n",
       " 'concludeBid',\n",
       " 'CreateTender',\n",
       " 'getBidsByKey',\n",
       " 'placeBid',\n",
       " 'allowedInstitution',\n",
       " 'tenderKeys',\n",
       " 'tenderList',\n",
       " 'tenders']"
      ]
     },
     "execution_count": 7,
     "metadata": {},
     "output_type": "execute_result"
    }
   ],
   "source": [
    "list(contract.functions)"
   ]
  },
  {
   "cell_type": "markdown",
   "metadata": {},
   "source": [
    "So far I have learnt only how to call a function form our TenderSmartContract."
   ]
  },
  {
   "cell_type": "code",
   "execution_count": 73,
   "metadata": {},
   "outputs": [
    {
     "data": {
      "text/plain": [
       "[]"
      ]
     },
     "execution_count": 73,
     "metadata": {},
     "output_type": "execute_result"
    }
   ],
   "source": [
    "contract.functions.CreateTender('Prova','prova',25,30,32).call()"
   ]
  },
  {
   "cell_type": "code",
   "execution_count": 86,
   "metadata": {},
   "outputs": [
    {
     "data": {
      "text/plain": [
       "[]"
      ]
     },
     "execution_count": 86,
     "metadata": {},
     "output_type": "execute_result"
    }
   ],
   "source": [
    "contract.functions.placeBid(0,'0x0b48890f198a9d49542492415126ca5e5898261d15cb9897b4506de5fb728cf7').call()"
   ]
  }
 ],
 "metadata": {
  "kernelspec": {
   "display_name": "Python 3",
   "language": "python",
   "name": "python3"
  },
  "language_info": {
   "codemirror_mode": {
    "name": "ipython",
    "version": 3
   },
   "file_extension": ".py",
   "mimetype": "text/x-python",
   "name": "python",
   "nbconvert_exporter": "python",
   "pygments_lexer": "ipython3",
   "version": "3.7.9"
  }
 },
 "nbformat": 4,
 "nbformat_minor": 4
}
